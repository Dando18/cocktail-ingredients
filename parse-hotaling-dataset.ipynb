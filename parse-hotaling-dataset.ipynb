{
 "cells": [
  {
   "attachments": {},
   "cell_type": "markdown",
   "metadata": {},
   "source": [
    "This script is for parsing the [hotaling & co cocktail dataset from Kaggle](https://www.kaggle.com/datasets/shuyangli94/cocktails-hotaling-co) and outputting it into json format for my scripts."
   ]
  },
  {
   "cell_type": "code",
   "execution_count": 1,
   "metadata": {},
   "outputs": [],
   "source": [
    "# settings and setup\n",
    "import copy\n",
    "import json\n",
    "import math\n",
    "import re\n",
    "import pandas as pd\n",
    "\n",
    "DATASET_FNAME = 'hotaling_cocktails.csv'\n",
    "OUTPUT_FNAME = 'hotaling_cocktails.json'\n",
    "COL_NAME_MAP = {'Cocktail Name': 'name'}\n",
    "\n",
    "SUBS = {\n",
    "    'Whiskey': ['Rye Whiskey', 'Bourbon', 'Scotch', 'Jack Daniels'],\n",
    "    'Vermouth': ['Red Vermouth', 'Green Vermouth', 'Sweet Vermouth', 'Dry Vermouth'],\n",
    "    'Bitters': ['Orange Bitters', 'Angostura Bitters'],\n",
    "    'Rum': ['White Rum'],\n",
    "    'Vodka': ['Vodka Citron'],\n",
    "    'Cointreau': ['Triple Sec'],\n",
    "    'Simple Syrup': ['Sugar Syrup', 'House-made Simple Syrup', 'Pure Cane Simple Syrup'],\n",
    "    'Tea': ['Black Tea', 'Lipton'],\n",
    "    'Lemon Juice': ['Fresh Lemon Juice', 'Squeezed Lemon'],\n",
    "    'Lime Juice': ['Fresh Lime Juice', 'Squeezed Lime'],\n",
    "    'Mint': ['Mint Leaves'],\n",
    "    'Lemon Lime Soda': ['Sprite', '7-UP', 'Lemon-Lime Soda']\n",
    "}\n",
    "PANTRY = ['Ice', 'Water', 'Sugar', 'Salt', 'Black Pepper', 'Coffee', 'Honey', 'Tea']\n",
    "BRANDS = ['St. George', 'Fee Brothers', 'Luxardo', 'Small Hand Foods', 'Deschutes', 'King\\'s', 'Leopold Bros.', 'Monin']\n",
    "AMTS = ['Sprig', 'Sprig Of', 'Dash', 'House-made', 'Homemade']\n",
    "\n",
    "# read in data\n",
    "df = pd.read_csv(DATASET_FNAME)"
   ]
  },
  {
   "cell_type": "code",
   "execution_count": 2,
   "metadata": {},
   "outputs": [],
   "source": [
    "# adjust column names and then convert to json (jsonl style) format\n",
    "df.rename(columns=COL_NAME_MAP, inplace=True)\n",
    "df.columns = df.columns.str.lower()\n",
    "df.fillna('', inplace=True)\n",
    "cocktails = df.to_dict(orient='records')"
   ]
  },
  {
   "attachments": {},
   "cell_type": "markdown",
   "metadata": {},
   "source": [
    "Split ingredients by commas and parse out amounts."
   ]
  },
  {
   "cell_type": "code",
   "execution_count": 3,
   "metadata": {},
   "outputs": [],
   "source": [
    "pattern = re.compile(r'[A-Z].*$')\n",
    "def parse_ingredient(ingr : str, is_garnish : bool = False, capitalize: bool = True) -> dict:\n",
    "    if '(' in ingr:\n",
    "        ingr = ingr.split('(')[0].strip()\n",
    "        \n",
    "    match = pattern.search(ingr)\n",
    "    if match is None:\n",
    "        return None\n",
    "    out = {'name': match.group(), 'amt': ingr[:match.start()].strip()}\n",
    "    if is_garnish:\n",
    "        out['garnish'] = 'true'\n",
    "    if capitalize:\n",
    "        out['name'] = ' '.join(w.capitalize() for w in out['name'].split())\n",
    "    return out\n",
    "\n",
    "def parse_ingredients(ingrs : str, garnishes : str) -> list:\n",
    "    ingrs = list(map(lambda s: s.strip().strip('*'), ingrs.split(',')))\n",
    "    ingrs = list(map(parse_ingredient, ingrs))\n",
    "    if garnishes and type(garnishes) == str:\n",
    "        garnishes = list(map(lambda s: s.strip().strip('*'), garnishes.split(',')))\n",
    "        garnishes = list(map(lambda s: parse_ingredient(s, is_garnish=True), garnishes))\n",
    "        ingrs.extend(garnishes)\n",
    "\n",
    "    return [ingr for ingr in ingrs if ingr is not None]\n"
   ]
  },
  {
   "cell_type": "code",
   "execution_count": 4,
   "metadata": {},
   "outputs": [],
   "source": [
    "for cocktail in cocktails:\n",
    "    cocktail['ingredients'] = parse_ingredients(cocktail['ingredients'], cocktail['garnish'])"
   ]
  },
  {
   "attachments": {},
   "cell_type": "markdown",
   "metadata": {},
   "source": [
    "Adjust format and save out."
   ]
  },
  {
   "cell_type": "code",
   "execution_count": 5,
   "metadata": {},
   "outputs": [],
   "source": [
    "final_dataset = {'substitutes': SUBS, 'recipes': cocktails}\n",
    "with open(OUTPUT_FNAME, 'w') as fp:\n",
    "    json.dump(final_dataset, fp, indent=2)"
   ]
  },
  {
   "attachments": {},
   "cell_type": "markdown",
   "metadata": {},
   "source": [
    "Now some basic stats about the dataset."
   ]
  },
  {
   "cell_type": "code",
   "execution_count": 6,
   "metadata": {},
   "outputs": [],
   "source": [
    "def is_val_at_key(tab, key, val) -> bool:\n",
    "    return key in tab and tab[key] == val\n",
    "\n",
    "def remove_items_in_pantry(recipes, pantry):\n",
    "    recipes = copy.deepcopy(recipes)\n",
    "    for recipe in recipes:\n",
    "        recipe['ingredients'] = list(filter(lambda i: i['name'] not in pantry, recipe['ingredients']))\n",
    "    return recipes\n",
    "\n",
    "def remove_garnishes(recipes):\n",
    "    recipes = copy.deepcopy(recipes)\n",
    "    for recipe in recipes:\n",
    "        recipe['ingredients'] = list(filter(lambda i: not is_val_at_key(i, 'garnish', 'true'), recipe['ingredients']))\n",
    "    return recipes\n",
    "\n",
    "def remove_substrings(recipes, substrs):\n",
    "    def _remove_substrs(ingr):\n",
    "        for substr in substrs:\n",
    "            ingr['name'] = ingr['name'].replace(substr, '')\n",
    "        return ingr\n",
    "\n",
    "    recipes = copy.deepcopy(recipes)\n",
    "    for recipe in recipes:\n",
    "        recipe['ingredients'] = list(map(_remove_substrs, recipe['ingredients']))\n",
    "    return recipes\n",
    "\n",
    "def make_substitutions(recipes, subs):\n",
    "    def _get_sub(ingr):\n",
    "        for key, values in subs.items():\n",
    "            if ingr['name'] == key or ingr['name'] in values:\n",
    "                ingr['name'] = key\n",
    "                return ingr \n",
    "        return ingr\n",
    "\n",
    "    recipes = copy.deepcopy(recipes)\n",
    "    for recipe in recipes:\n",
    "        recipe['ingredients'] = list(map(_get_sub, recipe['ingredients']))\n",
    "    return recipes"
   ]
  },
  {
   "cell_type": "code",
   "execution_count": 7,
   "metadata": {},
   "outputs": [
    {
     "name": "stdout",
     "output_type": "stream",
     "text": [
      "# Cocktails:          687\n",
      "# Ingredients:        1310\n",
      "# Ingredients\n",
      "  w/ opt 1:           1073\n",
      "# Ingredients\n",
      "  w/ opt 1 & 2:       1069\n",
      "# Ingredients\n",
      "  w/ opt 1, 2 & 3:    1058\n",
      "# Ingredients\n",
      "  w/ opt 1, 2, 3 & 4: 1054\n"
     ]
    }
   ],
   "source": [
    "num_cocktails = len(cocktails)\n",
    "unique_ingredients = set(ingr['name'] for c in cocktails for ingr in c['ingredients'])\n",
    "num_unique_ingredients = len(unique_ingredients)\n",
    "\n",
    "# filter out garnishes\n",
    "cocktails_opt_1 = remove_garnishes(cocktails)\n",
    "unique_ingredients_opt_1 = set(ingr['name'] for c in cocktails_opt_1 for ingr in c['ingredients'])\n",
    "num_unique_ingredients_opt_1 = len(unique_ingredients_opt_1)\n",
    "\n",
    "# filter out measurement words and brands\n",
    "cocktails_opt_2 = remove_substrings(cocktails_opt_1, [*BRANDS, *AMTS])\n",
    "unique_ingredients_opt_2 = set(ingr['name'] for c in cocktails_opt_2 for ingr in c['ingredients'])\n",
    "num_unique_ingredients_opt_2 = len(unique_ingredients_opt_2)\n",
    "\n",
    "# replace some ingredients with common names\n",
    "cocktails_opt_3 = make_substitutions(cocktails_opt_2, SUBS)\n",
    "unique_ingredients_opt_3 = set(ingr['name'] for c in cocktails_opt_3 for ingr in c['ingredients'])\n",
    "num_unique_ingredients_opt_3 = len(unique_ingredients_opt_3)\n",
    "\n",
    "# remove already owned\n",
    "cocktails_opt_4 = remove_items_in_pantry(cocktails_opt_3, PANTRY)\n",
    "unique_ingredients_opt_4 = set(ingr['name'] for c in cocktails_opt_4 for ingr in c['ingredients'])\n",
    "num_unique_ingredients_opt_4 = len(unique_ingredients_opt_4)\n",
    "\n",
    "\n",
    "print(f'# Cocktails:          {num_cocktails}')\n",
    "print(f'# Ingredients:        {num_unique_ingredients}')\n",
    "print(f'# Ingredients')\n",
    "print(f'  w/ opt 1:           {num_unique_ingredients_opt_1}')\n",
    "print(f'# Ingredients')\n",
    "print(f'  w/ opt 1 & 2:       {num_unique_ingredients_opt_2}')\n",
    "print(f'# Ingredients')\n",
    "print(f'  w/ opt 1, 2 & 3:    {num_unique_ingredients_opt_3}')\n",
    "print(f'# Ingredients')\n",
    "print(f'  w/ opt 1, 2, 3 & 4: {num_unique_ingredients_opt_4}')"
   ]
  }
 ],
 "metadata": {
  "kernelspec": {
   "display_name": "Python 3",
   "language": "python",
   "name": "python3"
  },
  "language_info": {
   "codemirror_mode": {
    "name": "ipython",
    "version": 3
   },
   "file_extension": ".py",
   "mimetype": "text/x-python",
   "name": "python",
   "nbconvert_exporter": "python",
   "pygments_lexer": "ipython3",
   "version": "3.8.10"
  },
  "orig_nbformat": 4,
  "vscode": {
   "interpreter": {
    "hash": "31f2aee4e71d21fbe5cf8b01ff0e069b9275f58929596ceb00d14d90e3e16cd6"
   }
  }
 },
 "nbformat": 4,
 "nbformat_minor": 2
}
